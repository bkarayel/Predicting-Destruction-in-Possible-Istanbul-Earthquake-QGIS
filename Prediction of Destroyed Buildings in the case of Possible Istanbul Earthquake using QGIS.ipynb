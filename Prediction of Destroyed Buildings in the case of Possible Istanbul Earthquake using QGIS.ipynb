{
 "cells": [
  {
   "cell_type": "markdown",
   "id": "fe64f6c0",
   "metadata": {},
   "source": [
    "### Prediction of Destroyed Buildings in the case of Possible Istanbul Earthquake using QGIS\n",
    "#### Berra Karayel 0054477"
   ]
  },
  {
   "cell_type": "code",
   "execution_count": 1,
   "id": "3ab4f184",
   "metadata": {},
   "outputs": [],
   "source": [
    "import pandas as pd\n",
    "import numpy as np\n",
    "\n",
    "from sklearn.model_selection import train_test_split\n",
    "from sklearn.metrics import accuracy_score\n",
    "from sklearn.metrics import classification_report\n",
    "from sklearn.metrics import confusion_matrix\n",
    "\n",
    "import matplotlib.pyplot as plt"
   ]
  },
  {
   "cell_type": "code",
   "execution_count": 2,
   "id": "cc68daf8",
   "metadata": {},
   "outputs": [],
   "source": [
    "Feb6 = pd.read_excel(\"/Users/berrakarayel/Desktop/training set.xlsx\")"
   ]
  },
  {
   "cell_type": "code",
   "execution_count": 3,
   "id": "d9940a33",
   "metadata": {},
   "outputs": [
    {
     "data": {
      "text/html": [
       "<div>\n",
       "<style scoped>\n",
       "    .dataframe tbody tr th:only-of-type {\n",
       "        vertical-align: middle;\n",
       "    }\n",
       "\n",
       "    .dataframe tbody tr th {\n",
       "        vertical-align: top;\n",
       "    }\n",
       "\n",
       "    .dataframe thead th {\n",
       "        text-align: right;\n",
       "    }\n",
       "</style>\n",
       "<table border=\"1\" class=\"dataframe\">\n",
       "  <thead>\n",
       "    <tr style=\"text-align: right;\">\n",
       "      <th></th>\n",
       "      <th>ID</th>\n",
       "      <th>Type</th>\n",
       "      <th>Damaged?</th>\n",
       "      <th>Distance to Center (km)</th>\n",
       "      <th>Distance to Fault Line (km)</th>\n",
       "      <th>Name of the Building</th>\n",
       "      <th>Zone based on Center</th>\n",
       "    </tr>\n",
       "  </thead>\n",
       "  <tbody>\n",
       "    <tr>\n",
       "      <th>0</th>\n",
       "      <td>1154556672</td>\n",
       "      <td>NaN</td>\n",
       "      <td>Destroyed</td>\n",
       "      <td>127.454207</td>\n",
       "      <td>26.964078</td>\n",
       "      <td>NaN</td>\n",
       "      <td>Zone 3 (100-150 km)</td>\n",
       "    </tr>\n",
       "    <tr>\n",
       "      <th>1</th>\n",
       "      <td>1154556671</td>\n",
       "      <td>NaN</td>\n",
       "      <td>Destroyed</td>\n",
       "      <td>127.462231</td>\n",
       "      <td>26.973944</td>\n",
       "      <td>NaN</td>\n",
       "      <td>Zone 3 (100-150 km)</td>\n",
       "    </tr>\n",
       "    <tr>\n",
       "      <th>2</th>\n",
       "      <td>1154556670</td>\n",
       "      <td>NaN</td>\n",
       "      <td>Destroyed</td>\n",
       "      <td>127.465983</td>\n",
       "      <td>26.972140</td>\n",
       "      <td>NaN</td>\n",
       "      <td>Zone 3 (100-150 km)</td>\n",
       "    </tr>\n",
       "    <tr>\n",
       "      <th>3</th>\n",
       "      <td>1154556669</td>\n",
       "      <td>NaN</td>\n",
       "      <td>Destroyed</td>\n",
       "      <td>127.470161</td>\n",
       "      <td>26.980464</td>\n",
       "      <td>NaN</td>\n",
       "      <td>Zone 3 (100-150 km)</td>\n",
       "    </tr>\n",
       "    <tr>\n",
       "      <th>4</th>\n",
       "      <td>1154556668</td>\n",
       "      <td>NaN</td>\n",
       "      <td>Destroyed</td>\n",
       "      <td>127.474794</td>\n",
       "      <td>26.983701</td>\n",
       "      <td>NaN</td>\n",
       "      <td>Zone 3 (100-150 km)</td>\n",
       "    </tr>\n",
       "    <tr>\n",
       "      <th>5</th>\n",
       "      <td>1154555599</td>\n",
       "      <td>NaN</td>\n",
       "      <td>Destroyed</td>\n",
       "      <td>126.104673</td>\n",
       "      <td>24.848692</td>\n",
       "      <td>NaN</td>\n",
       "      <td>Zone 3 (100-150 km)</td>\n",
       "    </tr>\n",
       "    <tr>\n",
       "      <th>6</th>\n",
       "      <td>1154555598</td>\n",
       "      <td>NaN</td>\n",
       "      <td>Destroyed</td>\n",
       "      <td>126.074834</td>\n",
       "      <td>24.835092</td>\n",
       "      <td>NaN</td>\n",
       "      <td>Zone 3 (100-150 km)</td>\n",
       "    </tr>\n",
       "    <tr>\n",
       "      <th>7</th>\n",
       "      <td>1154552485</td>\n",
       "      <td>NaN</td>\n",
       "      <td>Destroyed</td>\n",
       "      <td>127.791799</td>\n",
       "      <td>27.165073</td>\n",
       "      <td>NaN</td>\n",
       "      <td>Zone 3 (100-150 km)</td>\n",
       "    </tr>\n",
       "    <tr>\n",
       "      <th>8</th>\n",
       "      <td>1154552195</td>\n",
       "      <td>NaN</td>\n",
       "      <td>Destroyed</td>\n",
       "      <td>127.216594</td>\n",
       "      <td>26.778695</td>\n",
       "      <td>NaN</td>\n",
       "      <td>Zone 3 (100-150 km)</td>\n",
       "    </tr>\n",
       "    <tr>\n",
       "      <th>9</th>\n",
       "      <td>1154552194</td>\n",
       "      <td>NaN</td>\n",
       "      <td>Destroyed</td>\n",
       "      <td>127.209338</td>\n",
       "      <td>26.764843</td>\n",
       "      <td>NaN</td>\n",
       "      <td>Zone 3 (100-150 km)</td>\n",
       "    </tr>\n",
       "  </tbody>\n",
       "</table>\n",
       "</div>"
      ],
      "text/plain": [
       "           ID Type   Damaged?  Distance to Center (km)  \\\n",
       "0  1154556672  NaN  Destroyed               127.454207   \n",
       "1  1154556671  NaN  Destroyed               127.462231   \n",
       "2  1154556670  NaN  Destroyed               127.465983   \n",
       "3  1154556669  NaN  Destroyed               127.470161   \n",
       "4  1154556668  NaN  Destroyed               127.474794   \n",
       "5  1154555599  NaN  Destroyed               126.104673   \n",
       "6  1154555598  NaN  Destroyed               126.074834   \n",
       "7  1154552485  NaN  Destroyed               127.791799   \n",
       "8  1154552195  NaN  Destroyed               127.216594   \n",
       "9  1154552194  NaN  Destroyed               127.209338   \n",
       "\n",
       "   Distance to Fault Line (km) Name of the Building Zone based on Center  \n",
       "0                    26.964078                  NaN  Zone 3 (100-150 km)  \n",
       "1                    26.973944                  NaN  Zone 3 (100-150 km)  \n",
       "2                    26.972140                  NaN  Zone 3 (100-150 km)  \n",
       "3                    26.980464                  NaN  Zone 3 (100-150 km)  \n",
       "4                    26.983701                  NaN  Zone 3 (100-150 km)  \n",
       "5                    24.848692                  NaN  Zone 3 (100-150 km)  \n",
       "6                    24.835092                  NaN  Zone 3 (100-150 km)  \n",
       "7                    27.165073                  NaN  Zone 3 (100-150 km)  \n",
       "8                    26.778695                  NaN  Zone 3 (100-150 km)  \n",
       "9                    26.764843                  NaN  Zone 3 (100-150 km)  "
      ]
     },
     "execution_count": 3,
     "metadata": {},
     "output_type": "execute_result"
    }
   ],
   "source": [
    "Feb6.head(10)"
   ]
  },
  {
   "cell_type": "code",
   "execution_count": 4,
   "id": "5a08ad88",
   "metadata": {},
   "outputs": [
    {
     "data": {
      "text/html": [
       "<div>\n",
       "<style scoped>\n",
       "    .dataframe tbody tr th:only-of-type {\n",
       "        vertical-align: middle;\n",
       "    }\n",
       "\n",
       "    .dataframe tbody tr th {\n",
       "        vertical-align: top;\n",
       "    }\n",
       "\n",
       "    .dataframe thead th {\n",
       "        text-align: right;\n",
       "    }\n",
       "</style>\n",
       "<table border=\"1\" class=\"dataframe\">\n",
       "  <thead>\n",
       "    <tr style=\"text-align: right;\">\n",
       "      <th></th>\n",
       "      <th>ID</th>\n",
       "      <th>Distance to Center (km)</th>\n",
       "      <th>Distance to Fault Line (km)</th>\n",
       "    </tr>\n",
       "  </thead>\n",
       "  <tbody>\n",
       "    <tr>\n",
       "      <th>count</th>\n",
       "      <td>5.499000e+03</td>\n",
       "      <td>5499.000000</td>\n",
       "      <td>5499.000000</td>\n",
       "    </tr>\n",
       "    <tr>\n",
       "      <th>mean</th>\n",
       "      <td>1.024258e+09</td>\n",
       "      <td>92.456577</td>\n",
       "      <td>26.489903</td>\n",
       "    </tr>\n",
       "    <tr>\n",
       "      <th>std</th>\n",
       "      <td>2.247269e+08</td>\n",
       "      <td>47.860287</td>\n",
       "      <td>15.889021</td>\n",
       "    </tr>\n",
       "    <tr>\n",
       "      <th>min</th>\n",
       "      <td>9.166888e+07</td>\n",
       "      <td>13.482163</td>\n",
       "      <td>0.138048</td>\n",
       "    </tr>\n",
       "    <tr>\n",
       "      <th>25%</th>\n",
       "      <td>9.608378e+08</td>\n",
       "      <td>39.322632</td>\n",
       "      <td>19.812693</td>\n",
       "    </tr>\n",
       "    <tr>\n",
       "      <th>50%</th>\n",
       "      <td>1.138997e+09</td>\n",
       "      <td>108.312594</td>\n",
       "      <td>24.313871</td>\n",
       "    </tr>\n",
       "    <tr>\n",
       "      <th>75%</th>\n",
       "      <td>1.141905e+09</td>\n",
       "      <td>136.293863</td>\n",
       "      <td>35.220334</td>\n",
       "    </tr>\n",
       "    <tr>\n",
       "      <th>max</th>\n",
       "      <td>1.225779e+09</td>\n",
       "      <td>174.775890</td>\n",
       "      <td>115.693555</td>\n",
       "    </tr>\n",
       "  </tbody>\n",
       "</table>\n",
       "</div>"
      ],
      "text/plain": [
       "                 ID  Distance to Center (km)  Distance to Fault Line (km)\n",
       "count  5.499000e+03              5499.000000                  5499.000000\n",
       "mean   1.024258e+09                92.456577                    26.489903\n",
       "std    2.247269e+08                47.860287                    15.889021\n",
       "min    9.166888e+07                13.482163                     0.138048\n",
       "25%    9.608378e+08                39.322632                    19.812693\n",
       "50%    1.138997e+09               108.312594                    24.313871\n",
       "75%    1.141905e+09               136.293863                    35.220334\n",
       "max    1.225779e+09               174.775890                   115.693555"
      ]
     },
     "execution_count": 4,
     "metadata": {},
     "output_type": "execute_result"
    }
   ],
   "source": [
    "Feb6.describe()"
   ]
  },
  {
   "cell_type": "code",
   "execution_count": 5,
   "id": "56b7f25d",
   "metadata": {},
   "outputs": [
    {
     "data": {
      "text/plain": [
       "(5499, 7)"
      ]
     },
     "execution_count": 5,
     "metadata": {},
     "output_type": "execute_result"
    }
   ],
   "source": [
    "Feb6.shape"
   ]
  },
  {
   "cell_type": "code",
   "execution_count": 6,
   "id": "36a9699d",
   "metadata": {},
   "outputs": [
    {
     "data": {
      "text/plain": [
       "Destroyed        0.589016\n",
       "Not destroyed    0.410984\n",
       "Name: Damaged?, dtype: float64"
      ]
     },
     "execution_count": 6,
     "metadata": {},
     "output_type": "execute_result"
    }
   ],
   "source": [
    "Feb6[\"Damaged?\"].value_counts(normalize=True)"
   ]
  },
  {
   "cell_type": "code",
   "execution_count": 7,
   "id": "c0650149",
   "metadata": {},
   "outputs": [
    {
     "data": {
      "text/plain": [
       "Destroyed        3239\n",
       "Not destroyed    2260\n",
       "Name: Damaged?, dtype: int64"
      ]
     },
     "execution_count": 7,
     "metadata": {},
     "output_type": "execute_result"
    }
   ],
   "source": [
    "Feb6[\"Damaged?\"].value_counts()"
   ]
  },
  {
   "cell_type": "code",
   "execution_count": 8,
   "id": "3429c007",
   "metadata": {},
   "outputs": [
    {
     "data": {
      "image/png": "[encoded data removed]",
      "text/plain": [
       "<Figure size 640x480 with 1 Axes>"
      ]
     },
     "metadata": {},
     "output_type": "display_data"
    },
    {
     "data": {
      "text/plain": [
       "Destroyed        3239\n",
       "Not destroyed    2260\n",
       "Name: Damaged?, dtype: int64"
      ]
     },
     "execution_count": 8,
     "metadata": {},
     "output_type": "execute_result"
    }
   ],
   "source": [
    "my_colors = ['lightsteelblue','lightgreen']\n",
    "my_labels = ['Destroyed','Not Destroyed']\n",
    "\n",
    "plt.pie(Feb6[\"Damaged?\"].value_counts(),labels= my_labels,autopct='%1.1f%%', colors=my_colors, shadow=True)\n",
    "plt.title(\"Figure 1.Percentage of Destroyed Buildings Earthquake Area\")\n",
    "plt.legend()\n",
    "plt.show()\n",
    "Feb6[\"Damaged?\"].value_counts()"
   ]
  },
  {
   "cell_type": "code",
   "execution_count": 9,
   "id": "4fc18ae6",
   "metadata": {
    "scrolled": false
   },
   "outputs": [
    {
     "data": {
      "image/png": "[encoded data removed]",
      "text/plain": [
       "<Figure size 640x480 with 1 Axes>"
      ]
     },
     "metadata": {},
     "output_type": "display_data"
    }
   ],
   "source": [
    "# Count the occurrences of each combination of 'Damaged?' and 'Zone based on Center'\n",
    "counts = Feb6.groupby(['Zone based on Center', 'Damaged?']).size().unstack()\n",
    "\n",
    "# Plot the multiple bar plot\n",
    "ax = counts.plot(kind='bar', stacked=True, colormap='viridis')\n",
    "\n",
    "# Set plot labels and title\n",
    "ax.set_xlabel('Zone based on Center')\n",
    "ax.set_ylabel('Number of Buildings')\n",
    "ax.set_title('Number of Buildings by Zone and Damage')\n",
    "\n",
    "# Display the legend\n",
    "plt.legend()\n",
    "\n",
    "# Show the plot\n",
    "plt.show()"
   ]
  },
  {
   "cell_type": "code",
   "execution_count": 10,
   "id": "eb5b40a5",
   "metadata": {},
   "outputs": [
    {
     "data": {
      "image/png": "[encoded data removed]",
      "text/plain": [
       "<Figure size 640x480 with 1 Axes>"
      ]
     },
     "metadata": {},
     "output_type": "display_data"
    }
   ],
   "source": [
    "# Count the occurrences of each combination of 'Damaged?' and 'Zone based on Center'\n",
    "counts = Feb6.groupby(['Zone based on Center', 'Damaged?']).size().unstack()\n",
    "\n",
    "# Plot the multiple bar plot with side-by-side bars\n",
    "ax = counts.plot(kind='bar', width=0.8, colormap='viridis')\n",
    "\n",
    "# Set plot labels and title\n",
    "ax.set_xlabel('Zone based on the Distance to Earthquake Center (Kahramanmaraş, Pazarcık)')\n",
    "ax.set_ylabel('Number of Buildings')\n",
    "ax.set_title('Number of Buildings by Zone and Damage')\n",
    "\n",
    "# Display the legend\n",
    "plt.legend()\n",
    "\n",
    "# Show the plot\n",
    "plt.show()"
   ]
  },
  {
   "cell_type": "code",
   "execution_count": 11,
   "id": "ad67e4c6",
   "metadata": {},
   "outputs": [],
   "source": [
    "ist_earthquake = pd.read_excel(\"/Users/berrakarayel/Desktop/Istanbul houses.xlsx\")"
   ]
  },
  {
   "cell_type": "code",
   "execution_count": 12,
   "id": "1c2966b1",
   "metadata": {},
   "outputs": [
    {
     "data": {
      "text/html": [
       "<div>\n",
       "<style scoped>\n",
       "    .dataframe tbody tr th:only-of-type {\n",
       "        vertical-align: middle;\n",
       "    }\n",
       "\n",
       "    .dataframe tbody tr th {\n",
       "        vertical-align: top;\n",
       "    }\n",
       "\n",
       "    .dataframe thead th {\n",
       "        text-align: right;\n",
       "    }\n",
       "</style>\n",
       "<table border=\"1\" class=\"dataframe\">\n",
       "  <thead>\n",
       "    <tr style=\"text-align: right;\">\n",
       "      <th></th>\n",
       "      <th>ID</th>\n",
       "      <th>Type</th>\n",
       "      <th>Damaged?</th>\n",
       "      <th>Distance to Center (km)</th>\n",
       "      <th>Distance to Fault Line (km)</th>\n",
       "      <th>Name of the Building</th>\n",
       "      <th>Zone based on Center</th>\n",
       "    </tr>\n",
       "  </thead>\n",
       "  <tbody>\n",
       "    <tr>\n",
       "      <th>0</th>\n",
       "      <td>1581342</td>\n",
       "      <td>house</td>\n",
       "      <td>NaN</td>\n",
       "      <td>66.216722</td>\n",
       "      <td>60.083594</td>\n",
       "      <td>Fransız Konsolosluğu</td>\n",
       "      <td>Zone 3 (60-90 km)</td>\n",
       "    </tr>\n",
       "    <tr>\n",
       "      <th>1</th>\n",
       "      <td>3705453</td>\n",
       "      <td>house</td>\n",
       "      <td>NaN</td>\n",
       "      <td>71.603001</td>\n",
       "      <td>65.460698</td>\n",
       "      <td>NaN</td>\n",
       "      <td>Zone 3 (60-90 km)</td>\n",
       "    </tr>\n",
       "    <tr>\n",
       "      <th>2</th>\n",
       "      <td>112676067</td>\n",
       "      <td>house</td>\n",
       "      <td>NaN</td>\n",
       "      <td>66.186287</td>\n",
       "      <td>60.053047</td>\n",
       "      <td>NaN</td>\n",
       "      <td>Zone 3 (60-90 km)</td>\n",
       "    </tr>\n",
       "    <tr>\n",
       "      <th>3</th>\n",
       "      <td>112676080</td>\n",
       "      <td>house</td>\n",
       "      <td>NaN</td>\n",
       "      <td>66.212932</td>\n",
       "      <td>60.079799</td>\n",
       "      <td>NaN</td>\n",
       "      <td>Zone 3 (60-90 km)</td>\n",
       "    </tr>\n",
       "    <tr>\n",
       "      <th>4</th>\n",
       "      <td>112676092</td>\n",
       "      <td>house</td>\n",
       "      <td>NaN</td>\n",
       "      <td>66.178390</td>\n",
       "      <td>60.045137</td>\n",
       "      <td>NaN</td>\n",
       "      <td>Zone 3 (60-90 km)</td>\n",
       "    </tr>\n",
       "    <tr>\n",
       "      <th>5</th>\n",
       "      <td>167449851</td>\n",
       "      <td>house</td>\n",
       "      <td>NaN</td>\n",
       "      <td>73.257534</td>\n",
       "      <td>67.147162</td>\n",
       "      <td>Mithat Alam Film Merkezi</td>\n",
       "      <td>Zone 3 (60-90 km)</td>\n",
       "    </tr>\n",
       "    <tr>\n",
       "      <th>6</th>\n",
       "      <td>237686847</td>\n",
       "      <td>house</td>\n",
       "      <td>NaN</td>\n",
       "      <td>70.640889</td>\n",
       "      <td>64.498444</td>\n",
       "      <td>NaN</td>\n",
       "      <td>Zone 3 (60-90 km)</td>\n",
       "    </tr>\n",
       "    <tr>\n",
       "      <th>7</th>\n",
       "      <td>237983119</td>\n",
       "      <td>house</td>\n",
       "      <td>NaN</td>\n",
       "      <td>71.174404</td>\n",
       "      <td>65.032489</td>\n",
       "      <td>NaN</td>\n",
       "      <td>Zone 3 (60-90 km)</td>\n",
       "    </tr>\n",
       "    <tr>\n",
       "      <th>8</th>\n",
       "      <td>246599294</td>\n",
       "      <td>house</td>\n",
       "      <td>NaN</td>\n",
       "      <td>75.353107</td>\n",
       "      <td>69.224321</td>\n",
       "      <td>NaN</td>\n",
       "      <td>Zone 3 (60-90 km)</td>\n",
       "    </tr>\n",
       "    <tr>\n",
       "      <th>9</th>\n",
       "      <td>246599295</td>\n",
       "      <td>house</td>\n",
       "      <td>NaN</td>\n",
       "      <td>75.365893</td>\n",
       "      <td>69.237104</td>\n",
       "      <td>NaN</td>\n",
       "      <td>Zone 3 (60-90 km)</td>\n",
       "    </tr>\n",
       "  </tbody>\n",
       "</table>\n",
       "</div>"
      ],
      "text/plain": [
       "          ID   Type  Damaged?  Distance to Center (km)  \\\n",
       "0    1581342  house       NaN                66.216722   \n",
       "1    3705453  house       NaN                71.603001   \n",
       "2  112676067  house       NaN                66.186287   \n",
       "3  112676080  house       NaN                66.212932   \n",
       "4  112676092  house       NaN                66.178390   \n",
       "5  167449851  house       NaN                73.257534   \n",
       "6  237686847  house       NaN                70.640889   \n",
       "7  237983119  house       NaN                71.174404   \n",
       "8  246599294  house       NaN                75.353107   \n",
       "9  246599295  house       NaN                75.365893   \n",
       "\n",
       "   Distance to Fault Line (km)      Name of the Building Zone based on Center  \n",
       "0                    60.083594      Fransız Konsolosluğu    Zone 3 (60-90 km)  \n",
       "1                    65.460698                       NaN    Zone 3 (60-90 km)  \n",
       "2                    60.053047                       NaN    Zone 3 (60-90 km)  \n",
       "3                    60.079799                       NaN    Zone 3 (60-90 km)  \n",
       "4                    60.045137                       NaN    Zone 3 (60-90 km)  \n",
       "5                    67.147162  Mithat Alam Film Merkezi    Zone 3 (60-90 km)  \n",
       "6                    64.498444                       NaN    Zone 3 (60-90 km)  \n",
       "7                    65.032489                       NaN    Zone 3 (60-90 km)  \n",
       "8                    69.224321                       NaN    Zone 3 (60-90 km)  \n",
       "9                    69.237104                       NaN    Zone 3 (60-90 km)  "
      ]
     },
     "execution_count": 12,
     "metadata": {},
     "output_type": "execute_result"
    }
   ],
   "source": [
    "ist_earthquake.head(10)"
   ]
  },
  {
   "cell_type": "code",
   "execution_count": 13,
   "id": "04c2b2d5",
   "metadata": {},
   "outputs": [
    {
     "data": {
      "text/plain": [
       "(12947, 7)"
      ]
     },
     "execution_count": 13,
     "metadata": {},
     "output_type": "execute_result"
    }
   ],
   "source": [
    "ist_earthquake.shape"
   ]
  },
  {
   "cell_type": "code",
   "execution_count": 14,
   "id": "42cb8f9a",
   "metadata": {},
   "outputs": [
    {
     "data": {
      "text/html": [
       "<div>\n",
       "<style scoped>\n",
       "    .dataframe tbody tr th:only-of-type {\n",
       "        vertical-align: middle;\n",
       "    }\n",
       "\n",
       "    .dataframe tbody tr th {\n",
       "        vertical-align: top;\n",
       "    }\n",
       "\n",
       "    .dataframe thead th {\n",
       "        text-align: right;\n",
       "    }\n",
       "</style>\n",
       "<table border=\"1\" class=\"dataframe\">\n",
       "  <thead>\n",
       "    <tr style=\"text-align: right;\">\n",
       "      <th></th>\n",
       "      <th>ID</th>\n",
       "      <th>Damaged?</th>\n",
       "      <th>Distance to Center (km)</th>\n",
       "      <th>Distance to Fault Line (km)</th>\n",
       "    </tr>\n",
       "  </thead>\n",
       "  <tbody>\n",
       "    <tr>\n",
       "      <th>count</th>\n",
       "      <td>1.294700e+04</td>\n",
       "      <td>0.0</td>\n",
       "      <td>12947.000000</td>\n",
       "      <td>12947.000000</td>\n",
       "    </tr>\n",
       "    <tr>\n",
       "      <th>mean</th>\n",
       "      <td>6.542376e+08</td>\n",
       "      <td>NaN</td>\n",
       "      <td>69.488353</td>\n",
       "      <td>63.638091</td>\n",
       "    </tr>\n",
       "    <tr>\n",
       "      <th>std</th>\n",
       "      <td>2.112715e+08</td>\n",
       "      <td>NaN</td>\n",
       "      <td>21.220945</td>\n",
       "      <td>21.071842</td>\n",
       "    </tr>\n",
       "    <tr>\n",
       "      <th>min</th>\n",
       "      <td>1.581342e+06</td>\n",
       "      <td>NaN</td>\n",
       "      <td>27.424645</td>\n",
       "      <td>23.350496</td>\n",
       "    </tr>\n",
       "    <tr>\n",
       "      <th>25%</th>\n",
       "      <td>5.393145e+08</td>\n",
       "      <td>NaN</td>\n",
       "      <td>46.115718</td>\n",
       "      <td>40.426282</td>\n",
       "    </tr>\n",
       "    <tr>\n",
       "      <th>50%</th>\n",
       "      <td>6.594255e+08</td>\n",
       "      <td>NaN</td>\n",
       "      <td>71.812247</td>\n",
       "      <td>65.669621</td>\n",
       "    </tr>\n",
       "    <tr>\n",
       "      <th>75%</th>\n",
       "      <td>8.943105e+08</td>\n",
       "      <td>NaN</td>\n",
       "      <td>78.901459</td>\n",
       "      <td>72.993503</td>\n",
       "    </tr>\n",
       "    <tr>\n",
       "      <th>max</th>\n",
       "      <td>1.226791e+09</td>\n",
       "      <td>NaN</td>\n",
       "      <td>123.305624</td>\n",
       "      <td>117.160642</td>\n",
       "    </tr>\n",
       "  </tbody>\n",
       "</table>\n",
       "</div>"
      ],
      "text/plain": [
       "                 ID  Damaged?  Distance to Center (km)  \\\n",
       "count  1.294700e+04       0.0             12947.000000   \n",
       "mean   6.542376e+08       NaN                69.488353   \n",
       "std    2.112715e+08       NaN                21.220945   \n",
       "min    1.581342e+06       NaN                27.424645   \n",
       "25%    5.393145e+08       NaN                46.115718   \n",
       "50%    6.594255e+08       NaN                71.812247   \n",
       "75%    8.943105e+08       NaN                78.901459   \n",
       "max    1.226791e+09       NaN               123.305624   \n",
       "\n",
       "       Distance to Fault Line (km)  \n",
       "count                 12947.000000  \n",
       "mean                     63.638091  \n",
       "std                      21.071842  \n",
       "min                      23.350496  \n",
       "25%                      40.426282  \n",
       "50%                      65.669621  \n",
       "75%                      72.993503  \n",
       "max                     117.160642  "
      ]
     },
     "execution_count": 14,
     "metadata": {},
     "output_type": "execute_result"
    }
   ],
   "source": [
    "ist_earthquake.describe()"
   ]
  },
  {
   "cell_type": "markdown",
   "id": "4058bcaf",
   "metadata": {},
   "source": [
    "### Testing the Different Supervised Machine Learning Algorithms"
   ]
  },
  {
   "cell_type": "code",
   "execution_count": 15,
   "id": "acd187ab",
   "metadata": {},
   "outputs": [],
   "source": [
    "X = Feb6[[\"Distance to Fault Line (km)\",\"Distance to Center (km)\"]]\n",
    "y = Feb6[\"Damaged?\"]"
   ]
  },
  {
   "cell_type": "code",
   "execution_count": 16,
   "id": "eb1f4d79",
   "metadata": {},
   "outputs": [],
   "source": [
    "X_train, X_test, ytrain, ytest = train_test_split(X, y,test_size=0.2,random_state=1)"
   ]
  },
  {
   "cell_type": "markdown",
   "id": "9ea7d17c",
   "metadata": {},
   "source": [
    "#### Support Vector Machine"
   ]
  },
  {
   "cell_type": "code",
   "execution_count": 17,
   "id": "9ba65d21",
   "metadata": {},
   "outputs": [
    {
     "name": "stdout",
     "output_type": "stream",
     "text": [
      "               precision    recall  f1-score   support\n",
      "\n",
      "    Destroyed       0.74      0.97      0.84       654\n",
      "Not destroyed       0.92      0.51      0.66       446\n",
      "\n",
      "     accuracy                           0.78      1100\n",
      "    macro avg       0.83      0.74      0.75      1100\n",
      " weighted avg       0.81      0.78      0.77      1100\n",
      "\n"
     ]
    }
   ],
   "source": [
    "from sklearn.svm import SVC\n",
    "svm=SVC()\n",
    "svm.fit(X_train, ytrain)\n",
    "ypred2=svm.predict(X_test)\n",
    "accuracy_score(ytest,ypred2)\n",
    "print(classification_report(ytest,ypred2))"
   ]
  },
  {
   "cell_type": "markdown",
   "id": "0edf4707",
   "metadata": {},
   "source": [
    "#### Logistic Regression"
   ]
  },
  {
   "cell_type": "code",
   "execution_count": 18,
   "id": "3e5550a0",
   "metadata": {},
   "outputs": [
    {
     "name": "stdout",
     "output_type": "stream",
     "text": [
      "               precision    recall  f1-score   support\n",
      "\n",
      "    Destroyed       0.69      0.97      0.81       654\n",
      "Not destroyed       0.88      0.37      0.52       446\n",
      "\n",
      "     accuracy                           0.73      1100\n",
      "    macro avg       0.79      0.67      0.67      1100\n",
      " weighted avg       0.77      0.73      0.69      1100\n",
      "\n"
     ]
    }
   ],
   "source": [
    "from sklearn.linear_model import LogisticRegression\n",
    "from sklearn import linear_model\n",
    "\n",
    "log_reg = linear_model.LogisticRegression()\n",
    "log_reg.fit(X_train,ytrain)\n",
    "y_pred=log_reg.predict(X_test)\n",
    "print(classification_report(ytest,y_pred))"
   ]
  },
  {
   "cell_type": "markdown",
   "id": "77d0c895",
   "metadata": {},
   "source": [
    "#### Random Forest"
   ]
  },
  {
   "cell_type": "code",
   "execution_count": 19,
   "id": "d02ab0e8",
   "metadata": {},
   "outputs": [
    {
     "name": "stdout",
     "output_type": "stream",
     "text": [
      "               precision    recall  f1-score   support\n",
      "\n",
      "    Destroyed       0.97      0.99      0.98       654\n",
      "Not destroyed       0.98      0.95      0.96       446\n",
      "\n",
      "     accuracy                           0.97      1100\n",
      "    macro avg       0.97      0.97      0.97      1100\n",
      " weighted avg       0.97      0.97      0.97      1100\n",
      "\n"
     ]
    }
   ],
   "source": [
    "from sklearn.ensemble import RandomForestClassifier\n",
    "\n",
    "random_forest=RandomForestClassifier()\n",
    "random_forest.fit(X_train,ytrain)\n",
    "ypred1=random_forest.predict(X_test)\n",
    "print(classification_report(ytest,ypred1))"
   ]
  },
  {
   "cell_type": "markdown",
   "id": "51213098",
   "metadata": {},
   "source": [
    "#### K Nearest Neighbor (KNN)"
   ]
  },
  {
   "cell_type": "code",
   "execution_count": 20,
   "id": "de49adf3",
   "metadata": {},
   "outputs": [
    {
     "name": "stdout",
     "output_type": "stream",
     "text": [
      "               precision    recall  f1-score   support\n",
      "\n",
      "    Destroyed       0.97      0.98      0.98       654\n",
      "Not destroyed       0.97      0.96      0.97       446\n",
      "\n",
      "     accuracy                           0.97      1100\n",
      "    macro avg       0.97      0.97      0.97      1100\n",
      " weighted avg       0.97      0.97      0.97      1100\n",
      "\n"
     ]
    }
   ],
   "source": [
    "from sklearn.neighbors import KNeighborsClassifier\n",
    "\n",
    "k_nearest = KNeighborsClassifier()\n",
    "k_nearest.fit(X_train, ytrain)\n",
    "ypred3=k_nearest.predict(X_test)\n",
    "accuracy_score(ytest,ypred3)\n",
    "print(classification_report(ytest,ypred3))"
   ]
  },
  {
   "cell_type": "markdown",
   "id": "c1d8d2be",
   "metadata": {},
   "source": [
    "#### Multinomial NB"
   ]
  },
  {
   "cell_type": "code",
   "execution_count": 21,
   "id": "96325bab",
   "metadata": {},
   "outputs": [
    {
     "name": "stdout",
     "output_type": "stream",
     "text": [
      "               precision    recall  f1-score   support\n",
      "\n",
      "    Destroyed       0.71      0.70      0.70       654\n",
      "Not destroyed       0.57      0.57      0.57       446\n",
      "\n",
      "     accuracy                           0.65      1100\n",
      "    macro avg       0.64      0.64      0.64      1100\n",
      " weighted avg       0.65      0.65      0.65      1100\n",
      "\n"
     ]
    }
   ],
   "source": [
    "from sklearn.naive_bayes import MultinomialNB\n",
    "\n",
    "multi_nb=MultinomialNB()\n",
    "multi_nb.fit(X_train,ytrain)\n",
    "y_pred=multi_nb.predict(X_test)\n",
    "print(classification_report(ytest,y_pred))"
   ]
  },
  {
   "cell_type": "markdown",
   "id": "f2073448",
   "metadata": {},
   "source": [
    "#### **Best Fit Model:** Random Forest due to its high F1 score."
   ]
  },
  {
   "cell_type": "markdown",
   "id": "c347b488",
   "metadata": {},
   "source": [
    "### Predictions"
   ]
  },
  {
   "cell_type": "code",
   "execution_count": 22,
   "id": "d0d7ae18",
   "metadata": {},
   "outputs": [],
   "source": [
    "X_train = Feb6[[\"Distance to Fault Line (km)\",\"Distance to Center (km)\"]]\n",
    "y_train = Feb6[\"Damaged?\"]\n",
    "X_pred = ist_earthquake[[\"Distance to Fault Line (km)\",\"Distance to Center (km)\"]]"
   ]
  },
  {
   "cell_type": "code",
   "execution_count": 23,
   "id": "b591a791",
   "metadata": {},
   "outputs": [
    {
     "data": {
      "text/plain": [
       "Distance to Fault Line (km)    0\n",
       "Distance to Center (km)        0\n",
       "dtype: int64"
      ]
     },
     "execution_count": 23,
     "metadata": {},
     "output_type": "execute_result"
    }
   ],
   "source": [
    "X_train.isna().sum()"
   ]
  },
  {
   "cell_type": "code",
   "execution_count": 24,
   "id": "872c32ea",
   "metadata": {},
   "outputs": [
    {
     "data": {
      "text/plain": [
       "0"
      ]
     },
     "execution_count": 24,
     "metadata": {},
     "output_type": "execute_result"
    }
   ],
   "source": [
    "y_train.isna().sum()"
   ]
  },
  {
   "cell_type": "code",
   "execution_count": 25,
   "id": "ab81ae7c",
   "metadata": {},
   "outputs": [
    {
     "data": {
      "text/plain": [
       "Distance to Fault Line (km)    0\n",
       "Distance to Center (km)        0\n",
       "dtype: int64"
      ]
     },
     "execution_count": 25,
     "metadata": {},
     "output_type": "execute_result"
    }
   ],
   "source": [
    "X_pred.isna().sum()"
   ]
  },
  {
   "cell_type": "code",
   "execution_count": 26,
   "id": "581a9963",
   "metadata": {
    "scrolled": false
   },
   "outputs": [
    {
     "data": {
      "text/html": [
       "<div>\n",
       "<style scoped>\n",
       "    .dataframe tbody tr th:only-of-type {\n",
       "        vertical-align: middle;\n",
       "    }\n",
       "\n",
       "    .dataframe tbody tr th {\n",
       "        vertical-align: top;\n",
       "    }\n",
       "\n",
       "    .dataframe thead th {\n",
       "        text-align: right;\n",
       "    }\n",
       "</style>\n",
       "<table border=\"1\" class=\"dataframe\">\n",
       "  <thead>\n",
       "    <tr style=\"text-align: right;\">\n",
       "      <th></th>\n",
       "      <th>Distance to Fault Line (km)</th>\n",
       "      <th>Distance to Center (km)</th>\n",
       "    </tr>\n",
       "  </thead>\n",
       "  <tbody>\n",
       "    <tr>\n",
       "      <th>0</th>\n",
       "      <td>60.083594</td>\n",
       "      <td>66.216722</td>\n",
       "    </tr>\n",
       "    <tr>\n",
       "      <th>1</th>\n",
       "      <td>65.460698</td>\n",
       "      <td>71.603001</td>\n",
       "    </tr>\n",
       "    <tr>\n",
       "      <th>2</th>\n",
       "      <td>60.053047</td>\n",
       "      <td>66.186287</td>\n",
       "    </tr>\n",
       "    <tr>\n",
       "      <th>3</th>\n",
       "      <td>60.079799</td>\n",
       "      <td>66.212932</td>\n",
       "    </tr>\n",
       "    <tr>\n",
       "      <th>4</th>\n",
       "      <td>60.045137</td>\n",
       "      <td>66.178390</td>\n",
       "    </tr>\n",
       "    <tr>\n",
       "      <th>...</th>\n",
       "      <td>...</td>\n",
       "      <td>...</td>\n",
       "    </tr>\n",
       "    <tr>\n",
       "      <th>12942</th>\n",
       "      <td>70.307297</td>\n",
       "      <td>76.297399</td>\n",
       "    </tr>\n",
       "    <tr>\n",
       "      <th>12943</th>\n",
       "      <td>26.352635</td>\n",
       "      <td>27.424645</td>\n",
       "    </tr>\n",
       "    <tr>\n",
       "      <th>12944</th>\n",
       "      <td>59.823763</td>\n",
       "      <td>65.941240</td>\n",
       "    </tr>\n",
       "    <tr>\n",
       "      <th>12945</th>\n",
       "      <td>76.182539</td>\n",
       "      <td>82.325280</td>\n",
       "    </tr>\n",
       "    <tr>\n",
       "      <th>12946</th>\n",
       "      <td>66.510057</td>\n",
       "      <td>72.655033</td>\n",
       "    </tr>\n",
       "  </tbody>\n",
       "</table>\n",
       "<p>12947 rows × 2 columns</p>\n",
       "</div>"
      ],
      "text/plain": [
       "       Distance to Fault Line (km)  Distance to Center (km)\n",
       "0                        60.083594                66.216722\n",
       "1                        65.460698                71.603001\n",
       "2                        60.053047                66.186287\n",
       "3                        60.079799                66.212932\n",
       "4                        60.045137                66.178390\n",
       "...                            ...                      ...\n",
       "12942                    70.307297                76.297399\n",
       "12943                    26.352635                27.424645\n",
       "12944                    59.823763                65.941240\n",
       "12945                    76.182539                82.325280\n",
       "12946                    66.510057                72.655033\n",
       "\n",
       "[12947 rows x 2 columns]"
      ]
     },
     "execution_count": 26,
     "metadata": {},
     "output_type": "execute_result"
    }
   ],
   "source": [
    "X_pred"
   ]
  },
  {
   "cell_type": "code",
   "execution_count": 27,
   "id": "037c7557",
   "metadata": {},
   "outputs": [],
   "source": [
    "from sklearn.ensemble import RandomForestClassifier\n",
    "\n",
    "random_forest=RandomForestClassifier()\n",
    "random_forest.fit(X_train,y_train)\n",
    "ypred=random_forest.predict(X_pred)"
   ]
  },
  {
   "cell_type": "code",
   "execution_count": 28,
   "id": "71fd0bda",
   "metadata": {},
   "outputs": [
    {
     "data": {
      "text/plain": [
       "array(['Not destroyed', 'Not destroyed', 'Not destroyed', ...,\n",
       "       'Not destroyed', 'Not destroyed', 'Not destroyed'], dtype=object)"
      ]
     },
     "execution_count": 28,
     "metadata": {},
     "output_type": "execute_result"
    }
   ],
   "source": [
    "ypred"
   ]
  },
  {
   "cell_type": "code",
   "execution_count": 29,
   "id": "dfd69122",
   "metadata": {},
   "outputs": [],
   "source": [
    "ist_earthquake = pd.concat([X.reset_index(drop=True), pd.Series(ypred, name=\"PredictedSituation\")], axis=1)"
   ]
  },
  {
   "cell_type": "code",
   "execution_count": 30,
   "id": "e8a8ac48",
   "metadata": {},
   "outputs": [
    {
     "data": {
      "text/plain": [
       "Not destroyed    0.916737\n",
       "Destroyed        0.083263\n",
       "Name: PredictedSituation, dtype: float64"
      ]
     },
     "execution_count": 30,
     "metadata": {},
     "output_type": "execute_result"
    }
   ],
   "source": [
    "ist_earthquake['PredictedSituation'].value_counts(normalize=True)"
   ]
  },
  {
   "cell_type": "code",
   "execution_count": 34,
   "id": "06cc88d9",
   "metadata": {
    "scrolled": false
   },
   "outputs": [
    {
     "data": {
      "image/png": "[encoded data removed]",
      "text/plain": [
       "<Figure size 640x480 with 1 Axes>"
      ]
     },
     "metadata": {},
     "output_type": "display_data"
    }
   ],
   "source": [
    "plt.pie(ist_earthquake['PredictedSituation'].value_counts(),labels=['Not Destroyed','Destroyed'],autopct='%1.1f%%')\n",
    "plt.title(\"Figure 2. Prediction of Destruction in Houses in the Possible Istanbul Earthquake\")\n",
    "plt.legend()\n",
    "plt.show()"
   ]
  },
  {
   "cell_type": "code",
   "execution_count": 35,
   "id": "80389b6a",
   "metadata": {},
   "outputs": [],
   "source": [
    "ist_earthquake.to_csv('ist earthquake with predictions.csv')"
   ]
  },
  {
   "cell_type": "code",
   "execution_count": null,
   "id": "4754d498",
   "metadata": {},
   "outputs": [],
   "source": []
  }
 ],
 "metadata": {
  "kernelspec": {
   "display_name": "Python 3 (ipykernel)",
   "language": "python",
   "name": "python3"
  },
  "language_info": {
   "codemirror_mode": {
    "name": "ipython",
    "version": 3
   },
   "file_extension": ".py",
   "mimetype": "text/x-python",
   "name": "python",
   "nbconvert_exporter": "python",
   "pygments_lexer": "ipython3",
   "version": "3.8.8"
  }
 },
 "nbformat": 4,
 "nbformat_minor": 5
}
